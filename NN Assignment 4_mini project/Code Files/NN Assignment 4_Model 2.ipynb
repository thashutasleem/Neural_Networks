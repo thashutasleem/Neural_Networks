{
 "cells": [
  {
   "cell_type": "code",
   "execution_count": 1,
   "metadata": {},
   "outputs": [
    {
     "name": "stderr",
     "output_type": "stream",
     "text": [
      "/home/user/anaconda3/lib/python3.6/site-packages/h5py/__init__.py:36: FutureWarning: Conversion of the second argument of issubdtype from `float` to `np.floating` is deprecated. In future, it will be treated as `np.float64 == np.dtype(float).type`.\n",
      "  from ._conv import register_converters as _register_converters\n",
      "Using TensorFlow backend.\n"
     ]
    }
   ],
   "source": [
    "# Importing the Keras libraries and packages\n",
    "\n",
    "from keras.models import Sequential\n",
    "\n",
    "from keras.layers import Conv2D\n",
    "\n",
    "from keras.layers import MaxPooling2D\n",
    "\n",
    "from keras.layers import Flatten\n",
    "\n",
    "from keras.layers import Dense,Dropout"
   ]
  },
  {
   "cell_type": "code",
   "execution_count": 8,
   "metadata": {},
   "outputs": [
    {
     "name": "stdout",
     "output_type": "stream",
     "text": [
      "(None, 128)\n"
     ]
    }
   ],
   "source": [
    "classifier = Sequential()\n",
    "#Add Convolution layer\n",
    "classifier.add(Conv2D(32, (3, 3),padding='same', input_shape = (64, 64, 3), activation = 'relu'))\n",
    "#Add Max Pooling layer\n",
    "classifier.add(MaxPooling2D(pool_size = (2, 2)))\n",
    "\n",
    "#Add Convolution layer\n",
    "classifier.add(Conv2D(64, (3, 3),padding='same', activation = 'relu'))\n",
    "#Add Max Pooling layer\n",
    "classifier.add(MaxPooling2D(pool_size = (2, 2)))\n",
    "\n",
    "\n",
    "#Add Convolution layer\n",
    "classifier.add(Conv2D(128, (3, 3),padding='same', activation = 'relu'))\n",
    "#Add Max Pooling layer\n",
    "classifier.add(MaxPooling2D(pool_size = (2, 2)))\n",
    "\n",
    "\n",
    "#Add Convolution layer\n",
    "classifier.add(Conv2D(64, (3, 3), padding='same', activation = 'relu'))\n",
    "#Add Max Pooling layer\n",
    "classifier.add(MaxPooling2D(pool_size = (2, 2)))\n",
    "\n",
    "#Add Convolution layer--\n",
    "classifier.add(Conv2D(32, (3, 3), padding='same', activation = 'relu'))\n",
    "#Add Max Pooling layer\n",
    "classifier.add(MaxPooling2D(pool_size = (2, 2)))\n",
    "\n",
    "\n",
    "\n",
    "#Perform Flattening\n",
    "classifier.add(Flatten())\n",
    "print(classifier.layers[10].output_shape)\n",
    "#Add Fully Connected Network\n",
    "classifier.add(Dense(units = 32, activation = 'relu'))\n",
    "# classifier.add(Dropout(0.8))\n",
    "\n",
    "#Final Output layer\n",
    "classifier.add(Dense(units = 1, activation = 'sigmoid'))\n",
    "#compile the classsifier\n",
    "classifier.compile(optimizer = 'adam', loss = 'binary_crossentropy', metrics = ['accuracy'])"
   ]
  },
  {
   "cell_type": "code",
   "execution_count": 9,
   "metadata": {},
   "outputs": [
    {
     "name": "stdout",
     "output_type": "stream",
     "text": [
      "Found 1600 images belonging to 2 classes.\n",
      "Found 400 images belonging to 2 classes.\n",
      "Found 2023 images belonging to 2 classes.\n"
     ]
    }
   ],
   "source": [
    "from keras.preprocessing.image import ImageDataGenerator\n",
    "\n",
    "train_datagen = ImageDataGenerator(rescale = 1./255,shear_range = 0.2,zoom_range = 0.2,horizontal_flip = True)\n",
    "test_datagen = ImageDataGenerator(rescale = 1./255)\n",
    "training_set = train_datagen.flow_from_directory('training_set',target_size = (64, 64),batch_size = 32,class_mode = 'binary')\n",
    "validation_set = train_datagen.flow_from_directory('validation_set',target_size = (64, 64),batch_size = 32,class_mode = 'binary')\n",
    "test_set = test_datagen.flow_from_directory('test_set',target_size = (64, 64),batch_size = 32,class_mode = 'binary')"
   ]
  },
  {
   "cell_type": "code",
   "execution_count": 10,
   "metadata": {},
   "outputs": [
    {
     "name": "stdout",
     "output_type": "stream",
     "text": [
      "Epoch 1/10\n",
      "1600/1600 [==============================] - 651s 407ms/step - loss: 0.4601 - acc: 0.7671 - val_loss: 0.6186 - val_acc: 0.7609\n",
      "Epoch 2/10\n",
      "1600/1600 [==============================] - 619s 387ms/step - loss: 0.1278 - acc: 0.9491 - val_loss: 0.9159 - val_acc: 0.7611\n",
      "Epoch 3/10\n",
      "1600/1600 [==============================] - 639s 399ms/step - loss: 0.0599 - acc: 0.9786 - val_loss: 1.0098 - val_acc: 0.7803\n",
      "Epoch 4/10\n",
      "1600/1600 [==============================] - 633s 396ms/step - loss: 0.0421 - acc: 0.9847 - val_loss: 1.1338 - val_acc: 0.7976\n",
      "Epoch 5/10\n",
      "1600/1600 [==============================] - 647s 404ms/step - loss: 0.0365 - acc: 0.9870 - val_loss: 1.1252 - val_acc: 0.7837\n",
      "Epoch 6/10\n",
      "1600/1600 [==============================] - 649s 406ms/step - loss: 0.0294 - acc: 0.9896 - val_loss: 1.2232 - val_acc: 0.7843\n",
      "Epoch 7/10\n",
      "1600/1600 [==============================] - 552s 345ms/step - loss: 0.0293 - acc: 0.9895 - val_loss: 1.2512 - val_acc: 0.7784\n",
      "Epoch 8/10\n",
      "1600/1600 [==============================] - 320s 200ms/step - loss: 0.0227 - acc: 0.9922 - val_loss: 1.4969 - val_acc: 0.7717\n",
      "Epoch 9/10\n",
      "1600/1600 [==============================] - 316s 198ms/step - loss: 0.0219 - acc: 0.9925 - val_loss: 1.2861 - val_acc: 0.7856\n",
      "Epoch 10/10\n",
      "1600/1600 [==============================] - 329s 206ms/step - loss: 0.0211 - acc: 0.9927 - val_loss: 1.2015 - val_acc: 0.7884\n"
     ]
    },
    {
     "data": {
      "text/plain": [
       "<keras.callbacks.History at 0x7f49f64d5f98>"
      ]
     },
     "execution_count": 10,
     "metadata": {},
     "output_type": "execute_result"
    }
   ],
   "source": [
    "classifier.fit_generator(training_set,steps_per_epoch = 1600,epochs = 10,validation_data = validation_set,validation_steps = 400,max_queue_size=7,workers=3)"
   ]
  },
  {
   "cell_type": "code",
   "execution_count": 12,
   "metadata": {},
   "outputs": [
    {
     "name": "stdout",
     "output_type": "stream",
     "text": [
      "Total Dogs:  1012\n",
      "Dogs :  863\n",
      "Cats :  149\n",
      "----------------------\n",
      "Total Cats:  1011\n",
      "Dogs :  360\n",
      "Cats :  651\n",
      "----------------------\n"
     ]
    }
   ],
   "source": [
    "import numpy as np\n",
    "from keras.preprocessing import image\n",
    "import os\n",
    "import glob\n",
    "data_path = os.path.join('./test_set/dogs/','*jpg')\n",
    "files = glob.glob(data_path)\n",
    "dog,cat,total=0,0,0\n",
    "for f in files:\n",
    "    test_image = image.load_img(f, target_size = (64, 64))\n",
    "    test_image = image.img_to_array(test_image)\n",
    "    test_image = np.expand_dims(test_image, axis = 0)\n",
    "    result = classifier.predict(test_image)\n",
    "    training_set.class_indices\n",
    "    if result[0][0] == 1:\n",
    "        dog+=1\n",
    "    else:\n",
    "        cat+=1\n",
    "    total+=1\n",
    "print(\"Total Dogs: \",total)\n",
    "print(\"Dogs : \",dog)\n",
    "print(\"Cats : \",cat)\n",
    "print('----------------------')\n",
    "\n",
    "data_path = os.path.join('./test_set/cats/','*jpg')\n",
    "files = glob.glob(data_path)\n",
    "dog,cat,total=0,0,0\n",
    "for f in files:\n",
    "    test_image = image.load_img(f, target_size = (64, 64))\n",
    "    test_image = image.img_to_array(test_image)\n",
    "    test_image = np.expand_dims(test_image, axis = 0)\n",
    "    result = classifier.predict(test_image)\n",
    "    training_set.class_indices\n",
    "    if result[0][0] == 1:\n",
    "        dog+=1\n",
    "    else:\n",
    "        cat+=1\n",
    "    total+=1\n",
    "print(\"Total Cats: \",total)\n",
    "print(\"Dogs : \",dog)\n",
    "print(\"Cats : \",cat)\n",
    "print('----------------------')"
   ]
  }
 ],
 "metadata": {
  "kernelspec": {
   "display_name": "Python 3",
   "language": "python",
   "name": "python3"
  },
  "language_info": {
   "codemirror_mode": {
    "name": "ipython",
    "version": 3
   },
   "file_extension": ".py",
   "mimetype": "text/x-python",
   "name": "python",
   "nbconvert_exporter": "python",
   "pygments_lexer": "ipython3",
   "version": "3.6.5"
  }
 },
 "nbformat": 4,
 "nbformat_minor": 2
}
